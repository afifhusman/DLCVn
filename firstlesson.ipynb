{
  "nbformat": 4,
  "nbformat_minor": 0,
  "metadata": {
    "colab": {
      "provenance": [],
      "authorship_tag": "ABX9TyM9Wx92myi3L3pTTh475EQu",
      "include_colab_link": true
    },
    "kernelspec": {
      "name": "python3",
      "display_name": "Python 3"
    },
    "language_info": {
      "name": "python"
    }
  },
  "cells": [
    {
      "cell_type": "markdown",
      "metadata": {
        "id": "view-in-github",
        "colab_type": "text"
      },
      "source": [
        "<a href=\"https://colab.research.google.com/github/afifhusman/DLCVn/blob/main/firstlesson.ipynb\" target=\"_parent\"><img src=\"https://colab.research.google.com/assets/colab-badge.svg\" alt=\"Open In Colab\"/></a>"
      ]
    },
    {
      "cell_type": "code",
      "source": [
        "!python --version"
      ],
      "metadata": {
        "colab": {
          "base_uri": "https://localhost:8080/"
        },
        "id": "s-dA-tWrjSfq",
        "outputId": "1daa4d1b-3b30-473e-8fff-72374e872d16"
      },
      "execution_count": null,
      "outputs": [
        {
          "output_type": "stream",
          "name": "stdout",
          "text": [
            "Python 3.7.14\n"
          ]
        }
      ]
    },
    {
      "cell_type": "code",
      "source": [
        "x = (\"A\", \"B\", \"C\")"
      ],
      "metadata": {
        "id": "0rv9namqkjyf"
      },
      "execution_count": 7,
      "outputs": []
    },
    {
      "cell_type": "code",
      "source": [
        "type(x)\n"
      ],
      "metadata": {
        "colab": {
          "base_uri": "https://localhost:8080/"
        },
        "id": "7c8Dt-nNqmfZ",
        "outputId": "b23f2bde-4c9c-4b34-84b8-97391d2729a0"
      },
      "execution_count": 8,
      "outputs": [
        {
          "output_type": "execute_result",
          "data": {
            "text/plain": [
              "tuple"
            ]
          },
          "metadata": {},
          "execution_count": 8
        }
      ]
    },
    {
      "cell_type": "code",
      "source": [
        "y = {\"A\", \"B\", \"C\", \"A\"}"
      ],
      "metadata": {
        "id": "JXz2X6dpqn_q"
      },
      "execution_count": 11,
      "outputs": []
    },
    {
      "cell_type": "code",
      "source": [
        "type(y)"
      ],
      "metadata": {
        "colab": {
          "base_uri": "https://localhost:8080/"
        },
        "id": "a3E226qjqtR0",
        "outputId": "dd262542-7f5e-4692-c796-26107ff8cc63"
      },
      "execution_count": 12,
      "outputs": [
        {
          "output_type": "execute_result",
          "data": {
            "text/plain": [
              "set"
            ]
          },
          "metadata": {},
          "execution_count": 12
        }
      ]
    },
    {
      "cell_type": "code",
      "source": [
        "txt =\"aquickbrownfox\""
      ],
      "metadata": {
        "id": "1kU69Vlequhz"
      },
      "execution_count": 13,
      "outputs": []
    },
    {
      "cell_type": "code",
      "source": [
        "print(txt[0:len(txt)-2:2])"
      ],
      "metadata": {
        "colab": {
          "base_uri": "https://localhost:8080/"
        },
        "id": "GSuSTt3StEZj",
        "outputId": "9405dfc6-bf99-4596-d237-0000e0fe1239"
      },
      "execution_count": 19,
      "outputs": [
        {
          "output_type": "stream",
          "name": "stdout",
          "text": [
            "aucbon\n"
          ]
        }
      ]
    },
    {
      "cell_type": "code",
      "source": [
        "first = \"afif\"\n",
        "last= \"husman\"\n",
        "\n",
        "fullname = first + \" \" + last"
      ],
      "metadata": {
        "id": "btXskJFbtMtC"
      },
      "execution_count": 21,
      "outputs": []
    },
    {
      "cell_type": "code",
      "source": [
        "print(fullname)"
      ],
      "metadata": {
        "colab": {
          "base_uri": "https://localhost:8080/"
        },
        "id": "Ykur7oaMwl97",
        "outputId": "2f9d3d81-a973-42e9-df6a-a3eb41da5df7"
      },
      "execution_count": 22,
      "outputs": [
        {
          "output_type": "stream",
          "name": "stdout",
          "text": [
            "afif husman\n"
          ]
        }
      ]
    },
    {
      "cell_type": "code",
      "source": [
        "print(fullname[0:4])"
      ],
      "metadata": {
        "colab": {
          "base_uri": "https://localhost:8080/"
        },
        "id": "aEM1-yDgww8Q",
        "outputId": "437ae12a-d824-438f-b597-7c6e8e3125e4"
      },
      "execution_count": 26,
      "outputs": [
        {
          "output_type": "stream",
          "name": "stdout",
          "text": [
            "afif\n"
          ]
        }
      ]
    },
    {
      "cell_type": "code",
      "source": [
        "print(fullname[5:len(fullname)])"
      ],
      "metadata": {
        "colab": {
          "base_uri": "https://localhost:8080/"
        },
        "id": "7mt9ouVDxAT6",
        "outputId": "f7f264c0-fd75-434f-c025-1c922928ce5f"
      },
      "execution_count": 29,
      "outputs": [
        {
          "output_type": "stream",
          "name": "stdout",
          "text": [
            "husman\n"
          ]
        }
      ]
    },
    {
      "cell_type": "code",
      "source": [
        "x= fullname.split()"
      ],
      "metadata": {
        "id": "5ryiwTP4xj_x"
      },
      "execution_count": 32,
      "outputs": []
    },
    {
      "cell_type": "code",
      "source": [
        "print(x)\n"
      ],
      "metadata": {
        "colab": {
          "base_uri": "https://localhost:8080/"
        },
        "id": "Lt2L01TEyCyM",
        "outputId": "94e832f9-c891-4cc3-dd52-a36dac5f5006"
      },
      "execution_count": 33,
      "outputs": [
        {
          "output_type": "stream",
          "name": "stdout",
          "text": [
            "['afif', 'husman']\n"
          ]
        }
      ]
    },
    {
      "cell_type": "code",
      "source": [
        "x[0]"
      ],
      "metadata": {
        "colab": {
          "base_uri": "https://localhost:8080/",
          "height": 35
        },
        "id": "IJbME0xKyEa1",
        "outputId": "26620484-b8db-43d5-c7a1-b553265221c6"
      },
      "execution_count": 34,
      "outputs": [
        {
          "output_type": "execute_result",
          "data": {
            "text/plain": [
              "'afif'"
            ],
            "application/vnd.google.colaboratory.intrinsic+json": {
              "type": "string"
            }
          },
          "metadata": {},
          "execution_count": 34
        }
      ]
    },
    {
      "cell_type": "code",
      "source": [],
      "metadata": {
        "id": "MPFat-czyPc_"
      },
      "execution_count": null,
      "outputs": []
    }
  ]
}