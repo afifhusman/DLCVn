{
  "nbformat": 4,
  "nbformat_minor": 0,
  "metadata": {
    "colab": {
      "provenance": [],
      "collapsed_sections": [],
      "include_colab_link": true
    },
    "kernelspec": {
      "name": "python3",
      "display_name": "Python 3"
    },
    "language_info": {
      "name": "python"
    }
  },
  "cells": [
    {
      "cell_type": "markdown",
      "metadata": {
        "id": "view-in-github",
        "colab_type": "text"
      },
      "source": [
        "<a href=\"https://colab.research.google.com/github/afifhusman/DLCVn/blob/main/Solution_asg1.ipynb\" target=\"_parent\"><img src=\"https://colab.research.google.com/assets/colab-badge.svg\" alt=\"Open In Colab\"/></a>"
      ]
    },
    {
      "cell_type": "markdown",
      "source": [
        "## **Muhammad Afif Bin Husman**"
      ],
      "metadata": {
        "id": "dLjK7FSf0XIv"
      }
    },
    {
      "cell_type": "markdown",
      "source": [
        "**Solution = Assignment 1**\n",
        "\n",
        "## solution adapted from\n",
        "[1] https://www.digitalocean.com/community/tutorials/how-to-detect-and-extract-faces-from-an-image-with-opencv-and-python\n",
        "\n",
        "[2] https://stackoverflow.com/questions/24195138/gaussian-blurring-with-opencv-only-blurring-a-subregion-of-an-image\n",
        "\n",
        "\n",
        "---\n",
        "\n",
        "\n",
        "\n"
      ],
      "metadata": {
        "id": "V6basR3Y0d3O"
      }
    },
    {
      "cell_type": "code",
      "source": [
        "from IPython.display import display, Javascript\n",
        "from google.colab.output import eval_js\n",
        "from base64 import b64decode\n",
        "\n",
        "#function to take photo using JS\n",
        "\n",
        "def take_photo(filename='photo.jpg', quality=0.8):\n",
        "  js = Javascript('''\n",
        "    async function takePhoto(quality) {\n",
        "      const div = document.createElement('div');\n",
        "      const capture = document.createElement('button');\n",
        "      capture.textContent = 'Capture';\n",
        "      div.appendChild(capture);\n",
        "\n",
        "      const video = document.createElement('video');\n",
        "      video.style.display = 'block';\n",
        "      const stream = await navigator.mediaDevices.getUserMedia({video: true});\n",
        "\n",
        "      document.body.appendChild(div);\n",
        "      div.appendChild(video);\n",
        "      video.srcObject = stream;\n",
        "      await video.play();\n",
        "\n",
        "      // Resize the output to fit the video element.\n",
        "      google.colab.output.setIframeHeight(document.documentElement.scrollHeight, true);\n",
        "\n",
        "      // Wait for Capture to be clicked.\n",
        "      await new Promise((resolve) => capture.onclick = resolve);\n",
        "\n",
        "      const canvas = document.createElement('canvas');\n",
        "      canvas.width = video.videoWidth;\n",
        "      canvas.height = video.videoHeight;\n",
        "      canvas.getContext('2d').drawImage(video, 0, 0);\n",
        "      stream.getVideoTracks()[0].stop();\n",
        "      div.remove();\n",
        "      return canvas.toDataURL('image/jpeg', quality);\n",
        "    }\n",
        "    ''')\n",
        "  display(js)\n",
        "  data = eval_js('takePhoto({})'.format(quality))\n",
        "  binary = b64decode(data.split(',')[1])\n",
        "  with open(filename, 'wb') as f:\n",
        "    f.write(binary)\n",
        "  return filename"
      ],
      "metadata": {
        "id": "xRJhTGXM1TyK"
      },
      "execution_count": 1,
      "outputs": []
    },
    {
      "cell_type": "code",
      "source": [
        "from IPython.display import Image\n",
        "import cv2\n",
        "import matplotlib.pyplot as plt\n",
        "from random import choices\n",
        "from string import digits\n",
        "\n",
        "for x in range(0, 3):                                    #Loop 3 times\n",
        "  \n",
        "  try:\n",
        "    \n",
        "    f = 'photo' + \"\".join(choices(digits, k=4)) + '.jpg' #generate random image name\n",
        "    filename = take_photo(f,0.8)                         #capture image\n",
        "    print('Image {} - {}'.format(x+1,filename))\n",
        "\n",
        "    image = cv2.imread(filename,cv2.IMREAD_COLOR)        #read captured image\n",
        "    gray = cv2.cvtColor(image, cv2.COLOR_BGR2GRAY)       #convert image to grayscale\n",
        "\n",
        "    faceCascade = cv2.CascadeClassifier(cv2.data.haarcascades + \"haarcascade_frontalface_default.xml\") \n",
        "    faces = faceCascade.detectMultiScale(                # Create Haar Cascade object and use Haar Cascade classifier                                        \n",
        "          gray,                                          #.detect mutiscale generates a list of rectangles for all of the\n",
        "          scaleFactor=1.3,                               # detected faces in the image\n",
        "          minNeighbors=3,\n",
        "          minSize=(20, 20)\n",
        "  ) \n",
        "\n",
        "    for (x, y, w, h) in faces:                                    \n",
        "      ROI = image[y:y+h, x:x+w]                          # Grab ROI (rectangle)\n",
        "      blur = cv2.medianBlur(ROI, 65)                     # Apply blurring\n",
        "      image[y:y+h, x:x+w] = blur                         # Insert ROI back into image\n",
        "\n",
        "    \n",
        "    plt.figure()                        \n",
        "    plt.imshow(cv2.cvtColor(image, cv2.COLOR_BGR2RGB))\n",
        "\n",
        "  except Exception as err:\n",
        "    # Errors will be thrown if the user does not have a webcam or if they do not\n",
        "    # grant the page permission to access it.\n",
        "    print(str(err))"
      ],
      "metadata": {
        "id": "93dW8Abe1TyM"
      },
      "execution_count": null,
      "outputs": []
    }
  ]
}